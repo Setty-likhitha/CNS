{
  "cells": [
    {
      "cell_type": "markdown",
      "metadata": {
        "id": "view-in-github",
        "colab_type": "text"
      },
      "source": [
        "<a href=\"https://colab.research.google.com/github/Setty-likhitha/CNS/blob/main/CNS_.ipynb\" target=\"_parent\"><img src=\"https://colab.research.google.com/assets/colab-badge.svg\" alt=\"Open In Colab\"/></a>"
      ]
    },
    {
      "cell_type": "markdown",
      "metadata": {
        "id": "5VHXeS43U5u4"
      },
      "source": [
        "A Packet Sniffer is a network analysis tool used to capture, monitor, and analyze data packets transmitted over a network. It helps in troubleshooting network issues, security analysis, and performance monitoring.\n",
        "\n"
      ]
    },
    {
      "cell_type": "code",
      "execution_count": null,
      "metadata": {
        "colab": {
          "base_uri": "https://localhost:8080/"
        },
        "id": "TDXbkjjcRTwf",
        "outputId": "a4400037-bbee-4a0d-d5d0-d90a1968137d"
      },
      "outputs": [
        {
          "name": "stdout",
          "output_type": "stream",
          "text": [
            "Collecting scapy\n",
            "  Downloading scapy-2.6.1-py3-none-any.whl.metadata (5.6 kB)\n",
            "Downloading scapy-2.6.1-py3-none-any.whl (2.4 MB)\n",
            "\u001b[2K   \u001b[90m━━━━━━━━━━━━━━━━━━━━━━━━━━━━━━━━━━━━━━━━\u001b[0m \u001b[32m2.4/2.4 MB\u001b[0m \u001b[31m21.1 MB/s\u001b[0m eta \u001b[36m0:00:00\u001b[0m\n",
            "\u001b[?25hInstalling collected packages: scapy\n",
            "Successfully installed scapy-2.6.1\n"
          ]
        }
      ],
      "source": [
        "!pip install scapy"
      ]
    },
    {
      "cell_type": "code",
      "execution_count": null,
      "metadata": {
        "colab": {
          "base_uri": "https://localhost:8080/"
        },
        "id": "QJ3-Ci5YS320",
        "outputId": "4725cce6-24fc-4e03-c9e8-83dc4edfef0c"
      },
      "outputs": [
        {
          "name": "stdout",
          "output_type": "stream",
          "text": [
            "Starting packet capture...\n"
          ]
        },
        {
          "name": "stderr",
          "output_type": "stream",
          "text": [
            "WARNING: Socket <scapy.arch.linux.L2ListenSocket object at 0x792cb28bb810> failed with 'protocol'. It was closed.\n"
          ]
        }
      ],
      "source": [
        "from scapy.all import *\n",
        "\n",
        "def packet_sniffer(interface=\"eth0\"):\n",
        "    \"\"\"\n",
        "    Sniffs packets on the specified network interface and prints basic information.\n",
        "\n",
        "    Args:\n",
        "        interface (str): Name of the network interface to sniff on.\n",
        "    \"\"\"\n",
        "\n",
        "    def print_packet(pkt):\n",
        "        print(f\"Protocol: {pkt.protocol}, Src: {pkt[IP].src}, Dest: {pkt[IP].dst}\")\n",
        "\n",
        "    print(\"Starting packet capture...\")\n",
        "    sniff(iface=interface, prn=print_packet)\n",
        "\n",
        "# Example usage\n",
        "if __name__ == \"__main__\":\n",
        "    packet_sniffer()"
      ]
    },
    {
      "cell_type": "code",
      "execution_count": 4,
      "metadata": {
        "colab": {
          "base_uri": "https://localhost:8080/"
        },
        "id": "fOPBowqOTF_k",
        "outputId": "a8ab3a6d-b6bf-49bb-f96b-41ef68f8979e"
      },
      "outputs": [
        {
          "output_type": "stream",
          "name": "stdout",
          "text": [
            "Starting packet sniffer... Press CTRL+C to stop.\n",
            "\n",
            "--------------------------------------------------\n",
            "[+] Packet Captured\n",
            "  - 172.28.0.1  →  172.28.0.12 (Protocol: 6)\n",
            "  - TCP | Src Port: 51610, Dst Port: 8080\n",
            "--------------------------------------------------\n",
            "\n",
            "--------------------------------------------------\n",
            "[+] Packet Captured\n",
            "  - 172.28.0.12  →  172.28.0.1 (Protocol: 6)\n",
            "  - TCP | Src Port: 8080, Dst Port: 51610\n",
            "--------------------------------------------------\n",
            "\n",
            "--------------------------------------------------\n",
            "[+] Packet Captured\n",
            "  - 172.28.0.1  →  172.28.0.12 (Protocol: 6)\n",
            "  - TCP | Src Port: 51610, Dst Port: 8080\n",
            "--------------------------------------------------\n",
            "\n",
            "--------------------------------------------------\n",
            "[+] Packet Captured\n",
            "  - 172.28.0.1  →  172.28.0.12 (Protocol: 6)\n",
            "  - TCP | Src Port: 51610, Dst Port: 8080\n",
            "  - Payload: GET /api/colab/drive?authuser=0 HTTP/1.1\r\n",
            "Host: m-...\n",
            "--------------------------------------------------\n",
            "\n",
            "--------------------------------------------------\n",
            "[+] Packet Captured\n",
            "  - 172.28.0.12  →  172.28.0.1 (Protocol: 6)\n",
            "  - TCP | Src Port: 8080, Dst Port: 51610\n",
            "--------------------------------------------------\n",
            "\n",
            "--------------------------------------------------\n",
            "[+] Packet Captured\n",
            "  - 172.28.0.12  →  172.28.0.1 (Protocol: 6)\n",
            "  - TCP | Src Port: 8080, Dst Port: 51610\n",
            "  - Payload: HTTP/1.1 200 OK\r\n",
            "access-control-allow-origin: *\r\n",
            "c...\n",
            "--------------------------------------------------\n",
            "\n",
            "--------------------------------------------------\n",
            "[+] Packet Captured\n",
            "  - 172.28.0.1  →  172.28.0.12 (Protocol: 6)\n",
            "  - TCP | Src Port: 51610, Dst Port: 8080\n",
            "--------------------------------------------------\n",
            "\n",
            "--------------------------------------------------\n",
            "[+] Packet Captured\n",
            "  - 172.28.0.12  →  172.28.0.1 (Protocol: 6)\n",
            "  - TCP | Src Port: 8080, Dst Port: 51610\n",
            "--------------------------------------------------\n",
            "\n",
            "--------------------------------------------------\n",
            "[+] Packet Captured\n",
            "  - 172.28.0.1  →  172.28.0.12 (Protocol: 6)\n",
            "  - TCP | Src Port: 51610, Dst Port: 8080\n",
            "--------------------------------------------------\n",
            "\n",
            "--------------------------------------------------\n",
            "[+] Packet Captured\n",
            "  - 172.28.0.12  →  172.28.0.1 (Protocol: 6)\n",
            "  - TCP | Src Port: 8080, Dst Port: 51610\n",
            "--------------------------------------------------\n"
          ]
        }
      ],
      "source": [
        "from scapy.all import sniff\n",
        "from scapy.layers.inet import IP, TCP, UDP, ICMP\n",
        "\n",
        "def packet_callback(packet):\n",
        "    \"\"\"\n",
        "    Callback function to process each captured packet with a more concise output.\n",
        "    \"\"\"\n",
        "    print(\"\\n\" + \"-\" * 50)\n",
        "    print(\"[+] Packet Captured\")\n",
        "\n",
        "    if IP in packet:\n",
        "        ip_layer = packet[IP]\n",
        "        print(f\"  - {ip_layer.src}  →  {ip_layer.dst} (Protocol: {ip_layer.proto})\")\n",
        "\n",
        "        if TCP in packet:\n",
        "            tcp_layer = packet[TCP]\n",
        "            print(f\"  - TCP | Src Port: {tcp_layer.sport}, Dst Port: {tcp_layer.dport}\")\n",
        "\n",
        "        elif UDP in packet:\n",
        "            udp_layer = packet[UDP]\n",
        "            print(f\"  - UDP | Src Port: {udp_layer.sport}, Dst Port: {udp_layer.dport}\")\n",
        "\n",
        "        elif ICMP in packet:\n",
        "            icmp_layer = packet[ICMP]\n",
        "            print(f\"  - ICMP | Type: {icmp_layer.type}, Code: {icmp_layer.code}\")\n",
        "\n",
        "        if packet.haslayer('Raw'):\n",
        "            payload = packet['Raw'].load[:50]  # Limit payload size\n",
        "            print(f\"  - Payload: {payload.decode(errors='ignore')}...\")\n",
        "\n",
        "    print(\"-\" * 50)\n",
        "\n",
        "def main():\n",
        "    \"\"\"\n",
        "    Main function to start the packet sniffer.\n",
        "    \"\"\"\n",
        "    print(\"Starting packet sniffer... Press CTRL+C to stop.\")\n",
        "    sniff(prn=packet_callback, store=0, count=10)  # Capture only 10 packets\n",
        "\n",
        "if __name__ == \"__main__\":\n",
        "    main()\n"
      ]
    },
    {
      "cell_type": "code",
      "source": [],
      "metadata": {
        "id": "GuPn0sLdWvtU"
      },
      "execution_count": null,
      "outputs": []
    }
  ],
  "metadata": {
    "colab": {
      "provenance": [],
      "authorship_tag": "ABX9TyPcoISbcKrSXXPhs/4w6CGS",
      "include_colab_link": true
    },
    "kernelspec": {
      "display_name": "Python 3",
      "name": "python3"
    },
    "language_info": {
      "name": "python"
    }
  },
  "nbformat": 4,
  "nbformat_minor": 0
}